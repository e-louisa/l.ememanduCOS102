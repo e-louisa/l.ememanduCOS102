{
 "cells": [
  {
   "cell_type": "code",
   "execution_count": 1,
   "id": "f0bed78c",
   "metadata": {},
   "outputs": [
    {
     "data": {
      "text/html": [
       "<div>\n",
       "<style scoped>\n",
       "    .dataframe tbody tr th:only-of-type {\n",
       "        vertical-align: middle;\n",
       "    }\n",
       "\n",
       "    .dataframe tbody tr th {\n",
       "        vertical-align: top;\n",
       "    }\n",
       "\n",
       "    .dataframe thead th {\n",
       "        text-align: right;\n",
       "    }\n",
       "</style>\n",
       "<table border=\"1\" class=\"dataframe\">\n",
       "  <thead>\n",
       "    <tr style=\"text-align: right;\">\n",
       "      <th></th>\n",
       "      <th>SEGMENTS</th>\n",
       "      <th>EXPORTS</th>\n",
       "      <th>BRANDS</th>\n",
       "    </tr>\n",
       "  </thead>\n",
       "  <tbody>\n",
       "    <tr>\n",
       "      <th>0</th>\n",
       "      <td>Refreshment Beverages</td>\n",
       "      <td>Bournvita, Hot Chocolate</td>\n",
       "      <td>Cadbury Bournvita, Cadubury 3-in-1 Hot Chocolate</td>\n",
       "    </tr>\n",
       "    <tr>\n",
       "      <th>1</th>\n",
       "      <td>Confectionery</td>\n",
       "      <td>TomTom, Buttermint</td>\n",
       "      <td>TomTom Classic, TomTom Strawberry, Buttermint</td>\n",
       "    </tr>\n",
       "    <tr>\n",
       "      <th>2</th>\n",
       "      <td>Intermediate Cocoa Products</td>\n",
       "      <td>Cocoa Powder, Cocoa Butter, Cocoa liquor, Coco...</td>\n",
       "      <td>Cocoa Powder, Cocoa Butter</td>\n",
       "    </tr>\n",
       "  </tbody>\n",
       "</table>\n",
       "</div>"
      ],
      "text/plain": [
       "                      SEGMENTS  \\\n",
       "0        Refreshment Beverages   \n",
       "1                Confectionery   \n",
       "2  Intermediate Cocoa Products   \n",
       "\n",
       "                                             EXPORTS  \\\n",
       "0                           Bournvita, Hot Chocolate   \n",
       "1                                 TomTom, Buttermint   \n",
       "2  Cocoa Powder, Cocoa Butter, Cocoa liquor, Coco...   \n",
       "\n",
       "                                             BRANDS  \n",
       "0  Cadbury Bournvita, Cadubury 3-in-1 Hot Chocolate  \n",
       "1     TomTom Classic, TomTom Strawberry, Buttermint  \n",
       "2                        Cocoa Powder, Cocoa Butter  "
      ]
     },
     "execution_count": 1,
     "metadata": {},
     "output_type": "execute_result"
    }
   ],
   "source": [
    "import pandas as pd\n",
    "\n",
    "#dictionary to store the information\n",
    "dictionary = {\n",
    "    'SEGMENTS':['Refreshment Beverages','Confectionery','Intermediate Cocoa Products'],\n",
    "    'EXPORTS':['Bournvita, Hot Chocolate','TomTom, Buttermint','Cocoa Powder, Cocoa Butter, Cocoa liquor, Cocoa Cake'],\n",
    "    'BRANDS':['Cadbury Bournvita, Cadubury 3-in-1 Hot Chocolate','TomTom Classic, TomTom Strawberry, Buttermint','Cocoa Powder, Cocoa Butter']\n",
    "}\n",
    "#creating the file\n",
    "df = pd.DataFrame(dictionary)\n",
    "df.to_csv('cadbury_market.csv')\n",
    "df"
   ]
  }
 ],
 "metadata": {
  "kernelspec": {
   "display_name": "Python 3",
   "language": "python",
   "name": "python3"
  },
  "language_info": {
   "codemirror_mode": {
    "name": "ipython",
    "version": 3
   },
   "file_extension": ".py",
   "mimetype": "text/x-python",
   "name": "python",
   "nbconvert_exporter": "python",
   "pygments_lexer": "ipython3",
   "version": "3.13.2"
  }
 },
 "nbformat": 4,
 "nbformat_minor": 5
}
