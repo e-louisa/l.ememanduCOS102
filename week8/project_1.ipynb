{
 "cells": [
  {
   "cell_type": "code",
   "execution_count": null,
   "id": "926dda85",
   "metadata": {},
   "outputs": [],
   "source": [
    "import pandas as pd\n",
    "#TOP APPS IN GOOGLE PLAY STORE \n",
    "#Display only one row and header of each dataset\n",
    "print('Displaying one row with header:')\n",
    "file_1 = pd.read_csv(\"Top-Apps-in-Google-Play.csv\")\n",
    "df=file_1.head(1)\n",
    "df"
   ]
  },
  {
   "cell_type": "code",
   "execution_count": null,
   "id": "beffb917",
   "metadata": {},
   "outputs": [],
   "source": [
    "import pandas as pd\n",
    "#PROGRAMMING LANGUAGES TREND\n",
    "#Display only one row and header of each dataset\n",
    "print('Displaying one row with header:')\n",
    "file_1 = pd.read_csv(\"programming language trend over time.csv\")\n",
    "df=file_1.head(1)\n",
    "df"
   ]
  },
  {
   "cell_type": "code",
   "execution_count": null,
   "id": "ee6620a9",
   "metadata": {},
   "outputs": [],
   "source": [
    "import pandas as pd\n",
    "#CRYTPOCURRENCY \n",
    "#Display only one row and header of each dataset\n",
    "print('Displaying one row with header:')\n",
    "file_1 = pd.read_csv(\"BTC_DATA_V3.0.csv\")\n",
    "df=file_1.head(1)\n",
    "df"
   ]
  },
  {
   "cell_type": "code",
   "execution_count": null,
   "id": "c0303fac",
   "metadata": {},
   "outputs": [],
   "source": [
    "import pandas as pd\n",
    "#TOP APPS IN GOOGLE PLAY STORE \n",
    "\n",
    "#Display the first 7 rows of each dataset\n",
    "print('Displaying the first 7 rows of each dataset:')\n",
    "file_1 = pd.read_csv(\"Top-Apps-in-Google-Play.csv\")\n",
    "for row in file_1.head(7).itertuples(index=False):\n",
    "    print(row)"
   ]
  },
  {
   "cell_type": "code",
   "execution_count": null,
   "id": "12ad32d2",
   "metadata": {},
   "outputs": [],
   "source": [
    "import pandas as pd\n",
    "#TRENDING PROGRAMMING LANGUAGES\n",
    "#Display the first 7 rows of each dataset\n",
    "print('Displaying the first 7 rows of each dataset:')\n",
    "file_1 = pd.read_csv(\"programming language trend over time.csv\")\n",
    "for row in file_1.head(7).itertuples(index=False):\n",
    "    print(row)"
   ]
  },
  {
   "cell_type": "code",
   "execution_count": null,
   "id": "95d3c821",
   "metadata": {},
   "outputs": [],
   "source": [
    "import pandas as pd\n",
    "#CRYPTOCURRENCY\n",
    "#Display the first 7 rows of each dataset\n",
    "print('Displaying the first 7 rows of each dataset:')\n",
    "file_1 = pd.read_csv(\"BTC_DATA_V3.0.csv\")\n",
    "for row in file_1.head(7).itertuples(index=False):\n",
    "    print(row)"
   ]
  },
  {
   "cell_type": "code",
   "execution_count": null,
   "id": "192a0d0d",
   "metadata": {},
   "outputs": [],
   "source": [
    "import pandas as pd\n",
    "#TOP APPS IN GOOGLE PLAY STORE\n",
    "#Select the first 3 columns of each dataset\n",
    "print('Selecting the first 3 columns of each dataset:')\n",
    "file_1 = pd.read_csv(\"Top-Apps-in-Google-Play.csv\")\n",
    "df = file_1[file_1.columns[:4]]\n",
    "df"
   ]
  },
  {
   "cell_type": "code",
   "execution_count": null,
   "id": "df0bc408",
   "metadata": {},
   "outputs": [],
   "source": [
    "import pandas as pd\n",
    "#TREND PROGRAMMJNG LANGUAGES\n",
    "#Select the first 3 columns of each dataset\n",
    "print('Selecting the first 3 columns of each dataset:')\n",
    "file_1 = pd.read_csv(\"programming language trend over time.csv\")\n",
    "df = file_1[file_1.columns[:4]]\n",
    "df"
   ]
  },
  {
   "cell_type": "code",
   "execution_count": null,
   "id": "e429a3d1",
   "metadata": {},
   "outputs": [],
   "source": [
    "import pandas as pd\n",
    "#CRYPTOCURRENCY\n",
    "#Select the first 3 columns of each dataset\n",
    "print('Selecting the first 3 columns of each dataset:')\n",
    "file_1 = pd.read_csv(\"BTC_DATA_V3.0.csv\")\n",
    "df = file_1[file_1.columns[:4]]\n",
    "df"
   ]
  }
 ],
 "metadata": {
  "kernelspec": {
   "display_name": "Python 3",
   "language": "python",
   "name": "python3"
  },
  "language_info": {
   "codemirror_mode": {
    "name": "ipython",
    "version": 3
   },
   "file_extension": ".py",
   "mimetype": "text/x-python",
   "name": "python",
   "nbconvert_exporter": "python",
   "pygments_lexer": "ipython3",
   "version": "3.13.2"
  }
 },
 "nbformat": 4,
 "nbformat_minor": 5
}
