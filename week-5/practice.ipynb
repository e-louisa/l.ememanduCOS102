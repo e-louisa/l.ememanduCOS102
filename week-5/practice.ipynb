{
 "cells": [
  {
   "cell_type": "code",
   "execution_count": null,
   "id": "8dae6ba7",
   "metadata": {},
   "outputs": [],
   "source": [
    "import tkinter as tk\n",
    "\n",
    "#handling button click event\n",
    "def button_click():\n",
    "    print(\"Button clicked!\")\n",
    "\n",
    "    #show an information message box\n",
    "    msgbox.showinfo(\"Info\", \"Welcome to COS 102 GUI App\\n\")\n",
    "\n",
    "    #ask for user confirmation\n",
    "    result = msgbox.askyesno(\"Confirmation\", \"Do you want to continue?\")\n",
    "\n",
    "#create the tk main window\n",
    "root = tk.Tk()\n",
    "root.title(\"New Page\")\n",
    "root.geometry(\"300x100\")\n",
    "\n",
    "#add a label widget\n",
    "label = tk.Label(root, text=\"Hello Friend \\n\")\n",
    "label.pack()\n",
    "\n",
    "#add a button widget\n",
    "button = tk.Button(root, text=\"Click Me!\", command=button_click)\n",
    "button.pack()\n",
    "\n",
    "#styling the button widget\n",
    "button.config(fg = \"red\", bg = \"yellow\")\n",
    "\n",
    "#start the event loop\n",
    "root.mainloop()"
   ]
  },
  {
   "cell_type": "code",
   "execution_count": null,
   "id": "c955ef79",
   "metadata": {},
   "outputs": [],
   "source": [
    "import tkinter as tk\n",
    "from tkinter import messagebox\n",
    "from PIL import Image, ImageTk\n",
    "\n",
    "def welcomeMessage(username):\n",
    "    #create a tkinter window\n",
    "    window = tk.Toplevel(root)\n",
    "    window.title(\"Admin Box\")\n",
    "    window.geometry(\"500x200\")\n",
    "\n",
    "    label_1 = tk.Label(window, text=f\"Welcome {username}\\n\")\n",
    "    label_1.pack()\n",
    "    label_2 = tk.Label(window, text=\"This is Python GUI with Tkinter.\")\n",
    "    label_2.pack()\n",
    "\n",
    "    #run the tkinter event loop\n",
    "    root.mainloop()\n",
    "\n",
    "def submit():\n",
    "    username = username_entry.get()\n",
    "    password = password_entry.get()\n",
    "\n",
    "    if username == \"Mary\" and password ==\"cos102\":\n",
    "        welcomeMessage(username)\n",
    "    else:\n",
    "        messagebox.showerror(\"Login\", \"Invalid username or password.\")\n"
   ]
  },
  {
   "cell_type": "code",
   "execution_count": null,
   "id": "11fc1552",
   "metadata": {},
   "outputs": [],
   "source": [
    "#create main window\n",
    "root = tk.Tk()\n",
    "root.title(\"Login form\")\n",
    "root.geometry(\"500x200\")\n",
    "\n",
    "#create username label "
   ]
  }
 ],
 "metadata": {
  "kernelspec": {
   "display_name": "Python 3",
   "language": "python",
   "name": "python3"
  },
  "language_info": {
   "codemirror_mode": {
    "name": "ipython",
    "version": 3
   },
   "file_extension": ".py",
   "mimetype": "text/x-python",
   "name": "python",
   "nbconvert_exporter": "python",
   "pygments_lexer": "ipython3",
   "version": "3.13.2"
  }
 },
 "nbformat": 4,
 "nbformat_minor": 5
}
