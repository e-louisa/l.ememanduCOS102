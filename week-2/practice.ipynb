{
 "cells": [
  {
   "cell_type": "code",
   "execution_count": 1,
   "id": "71b3b1a4-3818-45b0-95e5-b6a1eb9b0170",
   "metadata": {},
   "outputs": [
    {
     "name": "stdout",
     "output_type": "stream",
     "text": [
      "Your state of origin is:  delta\n",
      "The first character is:  d\n",
      "The characters starting from 3rd to 5th are:  lta\n",
      "The string starting from the 3rd character is:  lta\n",
      "State of origin two times deltadelta\n"
     ]
    }
   ],
   "source": [
    "str = input(\"Enter your state of origin:\")\n",
    "\n",
    "print(\"Your state of origin is: \", str)\n",
    "print(\"The first character is: \", str[0])\n",
    "print(\"The characters starting from 3rd to 5th are: \", str[2:5])\n",
    "print(\"The string starting from the 3rd character is: \", str[2:])\n",
    "print(\"State of origin two times\", str * 2)"
   ]
  },
  {
   "cell_type": "code",
   "execution_count": 2,
   "id": "345e5884-469e-43c3-95db-22c7e4aed51d",
   "metadata": {},
   "outputs": [
    {
     "name": "stdout",
     "output_type": "stream",
     "text": [
      "Enter mass in kilograms:  68\n"
     ]
    },
    {
     "name": "stdout",
     "output_type": "stream",
     "text": [
      "The energy equivalent to 68.0 kg of mass is 6.111535215410359e+18 joules.\n"
     ]
    }
   ],
   "source": [
    "#input from user\n",
    "m = float(input(\"Enter mass in kilograms: \"))\n",
    "\n",
    "#constant value for the speed of light in m/s\n",
    "c = 299792458\n",
    "\n",
    "#calculating energy using Einstein's equation\n",
    "energy = m * c ** 2\n",
    "\n",
    "#displaying the result\n",
    "print(f\"The energy equivalent to {m} kg of mass is {energy} joules.\")"
   ]
  },
  {
   "cell_type": "code",
   "execution_count": 4,
   "id": "f03702d5-ca2e-4c2b-8511-3b194c1d2565",
   "metadata": {},
   "outputs": [
    {
     "name": "stdout",
     "output_type": "stream",
     "text": [
      "['Anaconda', 786, 2.23, 'Jupyter', 70.2]\n",
      "Anaconda\n",
      "[786, 2.23]\n",
      "[2.23, 'Jupyter', 70.2]\n",
      "[321, 'Python', 321, 'Python']\n",
      "['Anaconda', 786, 2.23, 'Jupyter', 70.2, 321, 'Python']\n"
     ]
    }
   ],
   "source": [
    "list = ['Anaconda', 786, 2.23, 'Jupyter', 70.2]\n",
    "shortlist = [321, 'Python']\n",
    "\n",
    "print(list)           #prints complete list\n",
    "print(list[0])        #prints first element of the list\n",
    "print(list[1:3])      #prints elements starting from 2nd till 3rd\n",
    "print(list[2:])       #prints elements starting from 3rd element\n",
    "print(shortlist * 2)  #prints list two times\n",
    "print(list + shortlist) #prints concatenated lists"
   ]
  },
  {
   "cell_type": "code",
   "execution_count": 5,
   "id": "dbb203be-a8dd-436e-94bf-108fc56722a5",
   "metadata": {},
   "outputs": [
    {
     "name": "stdout",
     "output_type": "stream",
     "text": [
      "('Ekiti', 750, 'Oshogbo', 250, 'Akure', 500)\n",
      "500\n",
      "('Oshogbo', 250)\n",
      "(250, 'Akure', 500)\n",
      "('Abeokuta', 300, 'Ogbomoso', 'Abeokuta', 300, 'Ogbomoso', 'Abeokuta', 300, 'Ogbomoso')\n",
      "('Ekiti', 750, 'Oshogbo', 250, 'Akure', 500, 'Abeokuta', 300, 'Ogbomoso')\n"
     ]
    }
   ],
   "source": [
    "tuple = (\"Ekiti\", 750, 'Oshogbo', 250, \"Akure\", 500)\n",
    "s_tuple = (\"Abeokuta\", 300, \"Ogbomoso\")\n",
    "\n",
    "#prints the complete tuple\n",
    "print(tuple)\n",
    "\n",
    "#prints last element of the tuple\n",
    "print(tuple[-1])\n",
    "\n",
    "#prints elements of the tuple starting from 2nd till 3rd\n",
    "print(tuple[2:4])\n",
    "\n",
    "#prints elements of the tuple starting from 3rd element\n",
    "print(tuple[3:])\n",
    "\n",
    "#prints the contents of the tuple twice\n",
    "print(s_tuple * 3)\n",
    "\n",
    "#prints concatenated tuples\n",
    "print(tuple + s_tuple)"
   ]
  },
  {
   "cell_type": "code",
   "execution_count": 1,
   "id": "f9e7ab1c-9d10-476a-8364-8a2a209ffd95",
   "metadata": {},
   "outputs": [
    {
     "name": "stdout",
     "output_type": "stream",
     "text": [
      "False\n",
      "False\n",
      "False\n",
      "False\n",
      "True\n"
     ]
    }
   ],
   "source": [
    "#returns false as game_1 is not equal to game_2\n",
    "game_1 = 2\n",
    "game_2 = 4\n",
    "print(bool(game_1 == game_2))\n",
    "#or\n",
    "print(game_1 == game_2)\n",
    "\n",
    "#returns false as val is None\n",
    "val = None\n",
    "print(bool(val))\n",
    "\n",
    "#returns false as num is an empty sequence\n",
    "num = ()\n",
    "print(bool(num))\n",
    "\n",
    "#returns true as age is boolean\n",
    "age = True\n",
    "print(bool(age))"
   ]
  },
  {
   "cell_type": "code",
   "execution_count": 2,
   "id": "39051803-8f98-48d8-88b2-97c0bea462fb",
   "metadata": {},
   "outputs": [
    {
     "name": "stdout",
     "output_type": "stream",
     "text": [
      "Grade = 70\n",
      "GPA = 4\n",
      "CGPA = 4\n"
     ]
    }
   ],
   "source": [
    "#convert to int\n",
    "\n",
    "grade = int(70)    #grade will be 70\n",
    "gpa = int(4.9)     #gpa will be 4\n",
    "cgpa = int(\"4\")    #cgpa will be 4\n",
    "\n",
    "print(f\"Grade = {grade}\")\n",
    "print(f\"GPA = {gpa}\")\n",
    "print(f\"CGPA = {cgpa}\")"
   ]
  },
  {
   "cell_type": "code",
   "execution_count": 3,
   "id": "59525b28-a0c8-4bb6-acf1-f441ed89ff15",
   "metadata": {},
   "outputs": [
    {
     "name": "stdout",
     "output_type": "stream",
     "text": [
      "Grade = 97.0\n",
      "GPA = 5.0\n",
      "CGPA = 4.7\n"
     ]
    }
   ],
   "source": [
    "#convert to float\n",
    "\n",
    "grade = float(97)\n",
    "gpa = float(5)\n",
    "cgpa = float(\"4.7\")\n",
    "\n",
    "print(f\"Grade = {grade}\")\n",
    "print(f\"GPA = {gpa}\")\n",
    "print(f\"CGPA = {cgpa}\")"
   ]
  },
  {
   "cell_type": "code",
   "execution_count": null,
   "id": "f166b92e-fcb9-4694-ae2d-3855f45ab3a3",
   "metadata": {},
   "outputs": [],
   "source": []
  }
 ],
 "metadata": {
  "kernelspec": {
   "display_name": "Python 3",
   "language": "python",
   "name": "python3"
  },
  "language_info": {
   "codemirror_mode": {
    "name": "ipython",
    "version": 3
   },
   "file_extension": ".py",
   "mimetype": "text/x-python",
   "name": "python",
   "nbconvert_exporter": "python",
   "pygments_lexer": "ipython3",
   "version": "3.13.2"
  }
 },
 "nbformat": 4,
 "nbformat_minor": 5
}
